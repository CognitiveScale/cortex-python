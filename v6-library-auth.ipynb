{
 "cells": [
  {
   "cell_type": "code",
   "execution_count": 4,
   "metadata": {},
   "outputs": [],
   "source": [
    "from cortex import Cortex"
   ]
  },
  {
   "cell_type": "code",
   "execution_count": 6,
   "metadata": {},
   "outputs": [],
   "source": [
    "client = Cortex.client()"
   ]
  },
  {
   "cell_type": "code",
   "execution_count": null,
   "metadata": {},
   "outputs": [],
   "source": []
  },
  {
   "cell_type": "code",
   "execution_count": 3,
   "metadata": {},
   "outputs": [],
   "source": [
    "### Token takes precedence to config. Project needs to be specified if its not there in the Environment or Cortex config"
   ]
  },
  {
   "cell_type": "code",
   "execution_count": 6,
   "metadata": {},
   "outputs": [
    {
     "name": "stdin",
     "output_type": "stream",
     "text": [
      "Cortex Personal Access Config:  {\"jwk\":{\"crv\":\"Ed25519\",\"x\":\"5lnS6XYM-w1GZVx4T96HluSYImynbalESQaR70wJGdA\",\"d\":\"SGoAIZzB6y0VI40T9pjLyCjKdYdKHwA5DL4k7hQhdX8\",\"kty\":\"OKP\",\"kid\":\"-Ye1rjW6JkBxW6RYgQju7Y0rpAreUy25mrKJnaVQFdM\"},\"issuer\":\"cognitivescale.com\",\"audience\":\"cortex\",\"username\":\"653833d4-32a7-463e-8b1a-65158a05dcba\",\"url\":\"https://api.dci-dev.dev-eks.insights.ai\"}\n",
      "Project:  laksh-cli\n"
     ]
    }
   ],
   "source": [
    "Cortex.login()"
   ]
  },
  {
   "cell_type": "raw",
   "metadata": {},
   "source": [
    "### Environemnt Variables set when login using interactive python environment:\n",
    "\n",
    "1. 'CORTEX_PERSONAL_ACCESS_CONFIG'\n",
    "2. 'CORTEX_PROJECT' (Not a rquired Param)"
   ]
  },
  {
   "cell_type": "code",
   "execution_count": null,
   "metadata": {},
   "outputs": [],
   "source": []
  }
 ],
 "metadata": {
  "kernelspec": {
   "display_name": "Python 3",
   "language": "python",
   "name": "python3"
  },
  "language_info": {
   "codemirror_mode": {
    "name": "ipython",
    "version": 3
   },
   "file_extension": ".py",
   "mimetype": "text/x-python",
   "name": "python",
   "nbconvert_exporter": "python",
   "pygments_lexer": "ipython3",
   "version": "3.7.8"
  }
 },
 "nbformat": 4,
 "nbformat_minor": 4
}
